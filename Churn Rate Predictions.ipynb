{
 "cells": [
  {
   "cell_type": "markdown",
   "id": "0fe29496",
   "metadata": {},
   "source": [
    "# MINIMIZING CHURN RATE THROUGH ANALYSIS OF FINANCIAL HABITS"
   ]
  },
  {
   "cell_type": "markdown",
   "id": "762b25c5",
   "metadata": {},
   "source": [
    "## Importing Data"
   ]
  },
  {
   "cell_type": "code",
   "execution_count": 2,
   "id": "6b84c1e9",
   "metadata": {},
   "outputs": [],
   "source": [
    "import numpy as np\n",
    "import pandas as pd\n",
    "import matplotlib.pyplot as plt\n",
    "import seaborn as sns"
   ]
  },
  {
   "cell_type": "code",
   "execution_count": 3,
   "id": "470b1ea1",
   "metadata": {},
   "outputs": [],
   "source": [
    "dataset = pd.read_csv('datasets/churn_data.csv')"
   ]
  },
  {
   "cell_type": "markdown",
   "id": "23d60645",
   "metadata": {},
   "source": [
    "## EDA"
   ]
  },
  {
   "cell_type": "code",
   "execution_count": 17,
   "id": "1e838857",
   "metadata": {
    "scrolled": true
   },
   "outputs": [
    {
     "data": {
      "text/html": [
       "<div>\n",
       "<style scoped>\n",
       "    .dataframe tbody tr th:only-of-type {\n",
       "        vertical-align: middle;\n",
       "    }\n",
       "\n",
       "    .dataframe tbody tr th {\n",
       "        vertical-align: top;\n",
       "    }\n",
       "\n",
       "    .dataframe thead th {\n",
       "        text-align: right;\n",
       "    }\n",
       "</style>\n",
       "<table border=\"1\" class=\"dataframe\">\n",
       "  <thead>\n",
       "    <tr style=\"text-align: right;\">\n",
       "      <th></th>\n",
       "      <th>user</th>\n",
       "      <th>churn</th>\n",
       "      <th>age</th>\n",
       "      <th>housing</th>\n",
       "      <th>credit_score</th>\n",
       "      <th>deposits</th>\n",
       "      <th>withdrawal</th>\n",
       "      <th>purchases_partners</th>\n",
       "      <th>purchases</th>\n",
       "      <th>cc_taken</th>\n",
       "      <th>...</th>\n",
       "      <th>waiting_4_loan</th>\n",
       "      <th>cancelled_loan</th>\n",
       "      <th>received_loan</th>\n",
       "      <th>rejected_loan</th>\n",
       "      <th>zodiac_sign</th>\n",
       "      <th>left_for_two_month_plus</th>\n",
       "      <th>left_for_one_month</th>\n",
       "      <th>rewards_earned</th>\n",
       "      <th>reward_rate</th>\n",
       "      <th>is_referred</th>\n",
       "    </tr>\n",
       "  </thead>\n",
       "  <tbody>\n",
       "    <tr>\n",
       "      <th>0</th>\n",
       "      <td>55409</td>\n",
       "      <td>0</td>\n",
       "      <td>37.0</td>\n",
       "      <td>na</td>\n",
       "      <td>NaN</td>\n",
       "      <td>0</td>\n",
       "      <td>0</td>\n",
       "      <td>0</td>\n",
       "      <td>0</td>\n",
       "      <td>0</td>\n",
       "      <td>...</td>\n",
       "      <td>0</td>\n",
       "      <td>0</td>\n",
       "      <td>0</td>\n",
       "      <td>0</td>\n",
       "      <td>Leo</td>\n",
       "      <td>1</td>\n",
       "      <td>0</td>\n",
       "      <td>NaN</td>\n",
       "      <td>0.00</td>\n",
       "      <td>0</td>\n",
       "    </tr>\n",
       "    <tr>\n",
       "      <th>1</th>\n",
       "      <td>23547</td>\n",
       "      <td>0</td>\n",
       "      <td>28.0</td>\n",
       "      <td>R</td>\n",
       "      <td>486.0</td>\n",
       "      <td>0</td>\n",
       "      <td>0</td>\n",
       "      <td>1</td>\n",
       "      <td>0</td>\n",
       "      <td>0</td>\n",
       "      <td>...</td>\n",
       "      <td>0</td>\n",
       "      <td>0</td>\n",
       "      <td>0</td>\n",
       "      <td>0</td>\n",
       "      <td>Leo</td>\n",
       "      <td>0</td>\n",
       "      <td>0</td>\n",
       "      <td>44.0</td>\n",
       "      <td>1.47</td>\n",
       "      <td>1</td>\n",
       "    </tr>\n",
       "    <tr>\n",
       "      <th>2</th>\n",
       "      <td>58313</td>\n",
       "      <td>0</td>\n",
       "      <td>35.0</td>\n",
       "      <td>R</td>\n",
       "      <td>561.0</td>\n",
       "      <td>47</td>\n",
       "      <td>2</td>\n",
       "      <td>86</td>\n",
       "      <td>47</td>\n",
       "      <td>0</td>\n",
       "      <td>...</td>\n",
       "      <td>0</td>\n",
       "      <td>0</td>\n",
       "      <td>0</td>\n",
       "      <td>0</td>\n",
       "      <td>Capricorn</td>\n",
       "      <td>1</td>\n",
       "      <td>0</td>\n",
       "      <td>65.0</td>\n",
       "      <td>2.17</td>\n",
       "      <td>0</td>\n",
       "    </tr>\n",
       "    <tr>\n",
       "      <th>3</th>\n",
       "      <td>8095</td>\n",
       "      <td>0</td>\n",
       "      <td>26.0</td>\n",
       "      <td>R</td>\n",
       "      <td>567.0</td>\n",
       "      <td>26</td>\n",
       "      <td>3</td>\n",
       "      <td>38</td>\n",
       "      <td>25</td>\n",
       "      <td>0</td>\n",
       "      <td>...</td>\n",
       "      <td>0</td>\n",
       "      <td>0</td>\n",
       "      <td>0</td>\n",
       "      <td>0</td>\n",
       "      <td>Capricorn</td>\n",
       "      <td>0</td>\n",
       "      <td>0</td>\n",
       "      <td>33.0</td>\n",
       "      <td>1.10</td>\n",
       "      <td>1</td>\n",
       "    </tr>\n",
       "    <tr>\n",
       "      <th>4</th>\n",
       "      <td>61353</td>\n",
       "      <td>1</td>\n",
       "      <td>27.0</td>\n",
       "      <td>na</td>\n",
       "      <td>NaN</td>\n",
       "      <td>0</td>\n",
       "      <td>0</td>\n",
       "      <td>2</td>\n",
       "      <td>0</td>\n",
       "      <td>0</td>\n",
       "      <td>...</td>\n",
       "      <td>0</td>\n",
       "      <td>0</td>\n",
       "      <td>0</td>\n",
       "      <td>0</td>\n",
       "      <td>Aries</td>\n",
       "      <td>1</td>\n",
       "      <td>0</td>\n",
       "      <td>1.0</td>\n",
       "      <td>0.03</td>\n",
       "      <td>0</td>\n",
       "    </tr>\n",
       "  </tbody>\n",
       "</table>\n",
       "<p>5 rows × 31 columns</p>\n",
       "</div>"
      ],
      "text/plain": [
       "    user  churn   age housing  credit_score  deposits  withdrawal  \\\n",
       "0  55409      0  37.0      na           NaN         0           0   \n",
       "1  23547      0  28.0       R         486.0         0           0   \n",
       "2  58313      0  35.0       R         561.0        47           2   \n",
       "3   8095      0  26.0       R         567.0        26           3   \n",
       "4  61353      1  27.0      na           NaN         0           0   \n",
       "\n",
       "   purchases_partners  purchases  cc_taken  ...  waiting_4_loan  \\\n",
       "0                   0          0         0  ...               0   \n",
       "1                   1          0         0  ...               0   \n",
       "2                  86         47         0  ...               0   \n",
       "3                  38         25         0  ...               0   \n",
       "4                   2          0         0  ...               0   \n",
       "\n",
       "   cancelled_loan  received_loan  rejected_loan  zodiac_sign  \\\n",
       "0               0              0              0          Leo   \n",
       "1               0              0              0          Leo   \n",
       "2               0              0              0    Capricorn   \n",
       "3               0              0              0    Capricorn   \n",
       "4               0              0              0        Aries   \n",
       "\n",
       "   left_for_two_month_plus  left_for_one_month  rewards_earned  reward_rate  \\\n",
       "0                        1                   0             NaN         0.00   \n",
       "1                        0                   0            44.0         1.47   \n",
       "2                        1                   0            65.0         2.17   \n",
       "3                        0                   0            33.0         1.10   \n",
       "4                        1                   0             1.0         0.03   \n",
       "\n",
       "   is_referred  \n",
       "0            0  \n",
       "1            1  \n",
       "2            0  \n",
       "3            1  \n",
       "4            0  \n",
       "\n",
       "[5 rows x 31 columns]"
      ]
     },
     "execution_count": 17,
     "metadata": {},
     "output_type": "execute_result"
    }
   ],
   "source": [
    "dataset.head()"
   ]
  },
  {
   "cell_type": "code",
   "execution_count": 18,
   "id": "31180703",
   "metadata": {},
   "outputs": [
    {
     "name": "stdout",
     "output_type": "stream",
     "text": [
      "<class 'pandas.core.frame.DataFrame'>\n",
      "RangeIndex: 27000 entries, 0 to 26999\n",
      "Data columns (total 31 columns):\n",
      " #   Column                   Non-Null Count  Dtype  \n",
      "---  ------                   --------------  -----  \n",
      " 0   user                     27000 non-null  int64  \n",
      " 1   churn                    27000 non-null  int64  \n",
      " 2   age                      26996 non-null  float64\n",
      " 3   housing                  27000 non-null  object \n",
      " 4   credit_score             18969 non-null  float64\n",
      " 5   deposits                 27000 non-null  int64  \n",
      " 6   withdrawal               27000 non-null  int64  \n",
      " 7   purchases_partners       27000 non-null  int64  \n",
      " 8   purchases                27000 non-null  int64  \n",
      " 9   cc_taken                 27000 non-null  int64  \n",
      " 10  cc_recommended           27000 non-null  int64  \n",
      " 11  cc_disliked              27000 non-null  int64  \n",
      " 12  cc_liked                 27000 non-null  int64  \n",
      " 13  cc_application_begin     27000 non-null  int64  \n",
      " 14  app_downloaded           27000 non-null  int64  \n",
      " 15  web_user                 27000 non-null  int64  \n",
      " 16  app_web_user             27000 non-null  int64  \n",
      " 17  ios_user                 27000 non-null  int64  \n",
      " 18  android_user             27000 non-null  int64  \n",
      " 19  registered_phones        27000 non-null  int64  \n",
      " 20  payment_type             27000 non-null  object \n",
      " 21  waiting_4_loan           27000 non-null  int64  \n",
      " 22  cancelled_loan           27000 non-null  int64  \n",
      " 23  received_loan            27000 non-null  int64  \n",
      " 24  rejected_loan            27000 non-null  int64  \n",
      " 25  zodiac_sign              27000 non-null  object \n",
      " 26  left_for_two_month_plus  27000 non-null  int64  \n",
      " 27  left_for_one_month       27000 non-null  int64  \n",
      " 28  rewards_earned           23773 non-null  float64\n",
      " 29  reward_rate              27000 non-null  float64\n",
      " 30  is_referred              27000 non-null  int64  \n",
      "dtypes: float64(4), int64(24), object(3)\n",
      "memory usage: 6.4+ MB\n"
     ]
    }
   ],
   "source": [
    "dataset.info()"
   ]
  },
  {
   "cell_type": "code",
   "execution_count": 19,
   "id": "c165591d",
   "metadata": {},
   "outputs": [
    {
     "data": {
      "text/html": [
       "<div>\n",
       "<style scoped>\n",
       "    .dataframe tbody tr th:only-of-type {\n",
       "        vertical-align: middle;\n",
       "    }\n",
       "\n",
       "    .dataframe tbody tr th {\n",
       "        vertical-align: top;\n",
       "    }\n",
       "\n",
       "    .dataframe thead th {\n",
       "        text-align: right;\n",
       "    }\n",
       "</style>\n",
       "<table border=\"1\" class=\"dataframe\">\n",
       "  <thead>\n",
       "    <tr style=\"text-align: right;\">\n",
       "      <th></th>\n",
       "      <th>user</th>\n",
       "      <th>churn</th>\n",
       "      <th>age</th>\n",
       "      <th>credit_score</th>\n",
       "      <th>deposits</th>\n",
       "      <th>withdrawal</th>\n",
       "      <th>purchases_partners</th>\n",
       "      <th>purchases</th>\n",
       "      <th>cc_taken</th>\n",
       "      <th>cc_recommended</th>\n",
       "      <th>...</th>\n",
       "      <th>registered_phones</th>\n",
       "      <th>waiting_4_loan</th>\n",
       "      <th>cancelled_loan</th>\n",
       "      <th>received_loan</th>\n",
       "      <th>rejected_loan</th>\n",
       "      <th>left_for_two_month_plus</th>\n",
       "      <th>left_for_one_month</th>\n",
       "      <th>rewards_earned</th>\n",
       "      <th>reward_rate</th>\n",
       "      <th>is_referred</th>\n",
       "    </tr>\n",
       "  </thead>\n",
       "  <tbody>\n",
       "    <tr>\n",
       "      <th>count</th>\n",
       "      <td>27000.000000</td>\n",
       "      <td>27000.000000</td>\n",
       "      <td>26996.000000</td>\n",
       "      <td>18969.000000</td>\n",
       "      <td>27000.000000</td>\n",
       "      <td>27000.000000</td>\n",
       "      <td>27000.000000</td>\n",
       "      <td>27000.000000</td>\n",
       "      <td>27000.000000</td>\n",
       "      <td>27000.000000</td>\n",
       "      <td>...</td>\n",
       "      <td>27000.000000</td>\n",
       "      <td>27000.000000</td>\n",
       "      <td>27000.000000</td>\n",
       "      <td>27000.000000</td>\n",
       "      <td>27000.000000</td>\n",
       "      <td>27000.000000</td>\n",
       "      <td>27000.000000</td>\n",
       "      <td>23773.000000</td>\n",
       "      <td>27000.000000</td>\n",
       "      <td>27000.000000</td>\n",
       "    </tr>\n",
       "    <tr>\n",
       "      <th>mean</th>\n",
       "      <td>35422.702519</td>\n",
       "      <td>0.413852</td>\n",
       "      <td>32.219921</td>\n",
       "      <td>542.944225</td>\n",
       "      <td>3.341556</td>\n",
       "      <td>0.307000</td>\n",
       "      <td>28.062519</td>\n",
       "      <td>3.273481</td>\n",
       "      <td>0.073778</td>\n",
       "      <td>92.625778</td>\n",
       "      <td>...</td>\n",
       "      <td>0.420926</td>\n",
       "      <td>0.001296</td>\n",
       "      <td>0.018815</td>\n",
       "      <td>0.018185</td>\n",
       "      <td>0.004889</td>\n",
       "      <td>0.173444</td>\n",
       "      <td>0.018074</td>\n",
       "      <td>29.110125</td>\n",
       "      <td>0.907684</td>\n",
       "      <td>0.318037</td>\n",
       "    </tr>\n",
       "    <tr>\n",
       "      <th>std</th>\n",
       "      <td>20321.006678</td>\n",
       "      <td>0.492532</td>\n",
       "      <td>9.964838</td>\n",
       "      <td>61.059315</td>\n",
       "      <td>9.131406</td>\n",
       "      <td>1.055416</td>\n",
       "      <td>42.219686</td>\n",
       "      <td>8.953077</td>\n",
       "      <td>0.437299</td>\n",
       "      <td>88.869343</td>\n",
       "      <td>...</td>\n",
       "      <td>0.912831</td>\n",
       "      <td>0.035981</td>\n",
       "      <td>0.135873</td>\n",
       "      <td>0.133623</td>\n",
       "      <td>0.069751</td>\n",
       "      <td>0.378638</td>\n",
       "      <td>0.133222</td>\n",
       "      <td>21.973478</td>\n",
       "      <td>0.752016</td>\n",
       "      <td>0.465723</td>\n",
       "    </tr>\n",
       "    <tr>\n",
       "      <th>min</th>\n",
       "      <td>1.000000</td>\n",
       "      <td>0.000000</td>\n",
       "      <td>17.000000</td>\n",
       "      <td>2.000000</td>\n",
       "      <td>0.000000</td>\n",
       "      <td>0.000000</td>\n",
       "      <td>0.000000</td>\n",
       "      <td>0.000000</td>\n",
       "      <td>0.000000</td>\n",
       "      <td>0.000000</td>\n",
       "      <td>...</td>\n",
       "      <td>0.000000</td>\n",
       "      <td>0.000000</td>\n",
       "      <td>0.000000</td>\n",
       "      <td>0.000000</td>\n",
       "      <td>0.000000</td>\n",
       "      <td>0.000000</td>\n",
       "      <td>0.000000</td>\n",
       "      <td>1.000000</td>\n",
       "      <td>0.000000</td>\n",
       "      <td>0.000000</td>\n",
       "    </tr>\n",
       "    <tr>\n",
       "      <th>25%</th>\n",
       "      <td>17810.500000</td>\n",
       "      <td>0.000000</td>\n",
       "      <td>25.000000</td>\n",
       "      <td>507.000000</td>\n",
       "      <td>0.000000</td>\n",
       "      <td>0.000000</td>\n",
       "      <td>0.000000</td>\n",
       "      <td>0.000000</td>\n",
       "      <td>0.000000</td>\n",
       "      <td>10.000000</td>\n",
       "      <td>...</td>\n",
       "      <td>0.000000</td>\n",
       "      <td>0.000000</td>\n",
       "      <td>0.000000</td>\n",
       "      <td>0.000000</td>\n",
       "      <td>0.000000</td>\n",
       "      <td>0.000000</td>\n",
       "      <td>0.000000</td>\n",
       "      <td>9.000000</td>\n",
       "      <td>0.200000</td>\n",
       "      <td>0.000000</td>\n",
       "    </tr>\n",
       "    <tr>\n",
       "      <th>50%</th>\n",
       "      <td>35749.000000</td>\n",
       "      <td>0.000000</td>\n",
       "      <td>30.000000</td>\n",
       "      <td>542.000000</td>\n",
       "      <td>0.000000</td>\n",
       "      <td>0.000000</td>\n",
       "      <td>9.000000</td>\n",
       "      <td>0.000000</td>\n",
       "      <td>0.000000</td>\n",
       "      <td>65.000000</td>\n",
       "      <td>...</td>\n",
       "      <td>0.000000</td>\n",
       "      <td>0.000000</td>\n",
       "      <td>0.000000</td>\n",
       "      <td>0.000000</td>\n",
       "      <td>0.000000</td>\n",
       "      <td>0.000000</td>\n",
       "      <td>0.000000</td>\n",
       "      <td>25.000000</td>\n",
       "      <td>0.780000</td>\n",
       "      <td>0.000000</td>\n",
       "    </tr>\n",
       "    <tr>\n",
       "      <th>75%</th>\n",
       "      <td>53244.250000</td>\n",
       "      <td>1.000000</td>\n",
       "      <td>37.000000</td>\n",
       "      <td>578.000000</td>\n",
       "      <td>1.000000</td>\n",
       "      <td>0.000000</td>\n",
       "      <td>43.000000</td>\n",
       "      <td>1.000000</td>\n",
       "      <td>0.000000</td>\n",
       "      <td>164.000000</td>\n",
       "      <td>...</td>\n",
       "      <td>0.000000</td>\n",
       "      <td>0.000000</td>\n",
       "      <td>0.000000</td>\n",
       "      <td>0.000000</td>\n",
       "      <td>0.000000</td>\n",
       "      <td>0.000000</td>\n",
       "      <td>0.000000</td>\n",
       "      <td>48.000000</td>\n",
       "      <td>1.530000</td>\n",
       "      <td>1.000000</td>\n",
       "    </tr>\n",
       "    <tr>\n",
       "      <th>max</th>\n",
       "      <td>69658.000000</td>\n",
       "      <td>1.000000</td>\n",
       "      <td>91.000000</td>\n",
       "      <td>838.000000</td>\n",
       "      <td>65.000000</td>\n",
       "      <td>29.000000</td>\n",
       "      <td>1067.000000</td>\n",
       "      <td>63.000000</td>\n",
       "      <td>29.000000</td>\n",
       "      <td>522.000000</td>\n",
       "      <td>...</td>\n",
       "      <td>5.000000</td>\n",
       "      <td>1.000000</td>\n",
       "      <td>1.000000</td>\n",
       "      <td>1.000000</td>\n",
       "      <td>1.000000</td>\n",
       "      <td>1.000000</td>\n",
       "      <td>1.000000</td>\n",
       "      <td>114.000000</td>\n",
       "      <td>4.000000</td>\n",
       "      <td>1.000000</td>\n",
       "    </tr>\n",
       "  </tbody>\n",
       "</table>\n",
       "<p>8 rows × 28 columns</p>\n",
       "</div>"
      ],
      "text/plain": [
       "               user         churn           age  credit_score      deposits  \\\n",
       "count  27000.000000  27000.000000  26996.000000  18969.000000  27000.000000   \n",
       "mean   35422.702519      0.413852     32.219921    542.944225      3.341556   \n",
       "std    20321.006678      0.492532      9.964838     61.059315      9.131406   \n",
       "min        1.000000      0.000000     17.000000      2.000000      0.000000   \n",
       "25%    17810.500000      0.000000     25.000000    507.000000      0.000000   \n",
       "50%    35749.000000      0.000000     30.000000    542.000000      0.000000   \n",
       "75%    53244.250000      1.000000     37.000000    578.000000      1.000000   \n",
       "max    69658.000000      1.000000     91.000000    838.000000     65.000000   \n",
       "\n",
       "         withdrawal  purchases_partners     purchases      cc_taken  \\\n",
       "count  27000.000000        27000.000000  27000.000000  27000.000000   \n",
       "mean       0.307000           28.062519      3.273481      0.073778   \n",
       "std        1.055416           42.219686      8.953077      0.437299   \n",
       "min        0.000000            0.000000      0.000000      0.000000   \n",
       "25%        0.000000            0.000000      0.000000      0.000000   \n",
       "50%        0.000000            9.000000      0.000000      0.000000   \n",
       "75%        0.000000           43.000000      1.000000      0.000000   \n",
       "max       29.000000         1067.000000     63.000000     29.000000   \n",
       "\n",
       "       cc_recommended  ...  registered_phones  waiting_4_loan  cancelled_loan  \\\n",
       "count    27000.000000  ...       27000.000000    27000.000000    27000.000000   \n",
       "mean        92.625778  ...           0.420926        0.001296        0.018815   \n",
       "std         88.869343  ...           0.912831        0.035981        0.135873   \n",
       "min          0.000000  ...           0.000000        0.000000        0.000000   \n",
       "25%         10.000000  ...           0.000000        0.000000        0.000000   \n",
       "50%         65.000000  ...           0.000000        0.000000        0.000000   \n",
       "75%        164.000000  ...           0.000000        0.000000        0.000000   \n",
       "max        522.000000  ...           5.000000        1.000000        1.000000   \n",
       "\n",
       "       received_loan  rejected_loan  left_for_two_month_plus  \\\n",
       "count   27000.000000   27000.000000             27000.000000   \n",
       "mean        0.018185       0.004889                 0.173444   \n",
       "std         0.133623       0.069751                 0.378638   \n",
       "min         0.000000       0.000000                 0.000000   \n",
       "25%         0.000000       0.000000                 0.000000   \n",
       "50%         0.000000       0.000000                 0.000000   \n",
       "75%         0.000000       0.000000                 0.000000   \n",
       "max         1.000000       1.000000                 1.000000   \n",
       "\n",
       "       left_for_one_month  rewards_earned   reward_rate   is_referred  \n",
       "count        27000.000000    23773.000000  27000.000000  27000.000000  \n",
       "mean             0.018074       29.110125      0.907684      0.318037  \n",
       "std              0.133222       21.973478      0.752016      0.465723  \n",
       "min              0.000000        1.000000      0.000000      0.000000  \n",
       "25%              0.000000        9.000000      0.200000      0.000000  \n",
       "50%              0.000000       25.000000      0.780000      0.000000  \n",
       "75%              0.000000       48.000000      1.530000      1.000000  \n",
       "max              1.000000      114.000000      4.000000      1.000000  \n",
       "\n",
       "[8 rows x 28 columns]"
      ]
     },
     "execution_count": 19,
     "metadata": {},
     "output_type": "execute_result"
    }
   ],
   "source": [
    "dataset.describe()"
   ]
  },
  {
   "cell_type": "markdown",
   "id": "3d7de478",
   "metadata": {},
   "source": [
    "#### Cleaning dataset"
   ]
  },
  {
   "cell_type": "code",
   "execution_count": 4,
   "id": "c5591b75",
   "metadata": {},
   "outputs": [],
   "source": [
    "dataset[dataset.credit_score < 300]\n",
    "dataset = dataset[dataset.credit_score >= 300]"
   ]
  },
  {
   "cell_type": "markdown",
   "id": "314c6ae9",
   "metadata": {},
   "source": [
    "#### NaN values"
   ]
  },
  {
   "cell_type": "code",
   "execution_count": 21,
   "id": "1fd5c038",
   "metadata": {},
   "outputs": [
    {
     "data": {
      "text/plain": [
       "user                       False\n",
       "churn                      False\n",
       "age                        False\n",
       "housing                    False\n",
       "credit_score               False\n",
       "deposits                   False\n",
       "withdrawal                 False\n",
       "purchases_partners         False\n",
       "purchases                  False\n",
       "cc_taken                   False\n",
       "cc_recommended             False\n",
       "cc_disliked                False\n",
       "cc_liked                   False\n",
       "cc_application_begin       False\n",
       "app_downloaded             False\n",
       "web_user                   False\n",
       "app_web_user               False\n",
       "ios_user                   False\n",
       "android_user               False\n",
       "registered_phones          False\n",
       "payment_type               False\n",
       "waiting_4_loan             False\n",
       "cancelled_loan             False\n",
       "received_loan              False\n",
       "rejected_loan              False\n",
       "zodiac_sign                False\n",
       "left_for_two_month_plus    False\n",
       "left_for_one_month         False\n",
       "rewards_earned              True\n",
       "reward_rate                False\n",
       "is_referred                False\n",
       "dtype: bool"
      ]
     },
     "execution_count": 21,
     "metadata": {},
     "output_type": "execute_result"
    }
   ],
   "source": [
    "dataset.isna().any()"
   ]
  },
  {
   "cell_type": "code",
   "execution_count": 5,
   "id": "29c7bff2",
   "metadata": {},
   "outputs": [],
   "source": [
    "dataset = dataset.drop(['rewards_earned','credit_score'],axis=1)"
   ]
  },
  {
   "cell_type": "markdown",
   "id": "432f4964",
   "metadata": {},
   "source": [
    "## Visualisation"
   ]
  },
  {
   "cell_type": "markdown",
   "id": "936fdfc2",
   "metadata": {},
   "source": [
    "#### Histograms"
   ]
  },
  {
   "cell_type": "code",
   "execution_count": 23,
   "id": "929f8073",
   "metadata": {},
   "outputs": [],
   "source": [
    "dataset2 = dataset.drop(['user','churn'],axis=1)"
   ]
  },
  {
   "cell_type": "code",
   "execution_count": 24,
   "id": "bc0bd2ac",
   "metadata": {},
   "outputs": [
    {
     "data": {
      "image/png": "[encoded data removed]",
      "text/plain": [
       "<Figure size 1080x864 with 27 Axes>"
      ]
     },
     "metadata": {
      "needs_background": "light"
     },
     "output_type": "display_data"
    }
   ],
   "source": [
    "fig = plt.figure(figsize=(15,12))\n",
    "\n",
    "plt.suptitle('Histograms of Numerical Columns', fontsize=15)\n",
    "\n",
    "for i in range(1, dataset2.shape[1] + 1):\n",
    "    plt.subplot(6, 5, i)\n",
    "    f = plt.gca()\n",
    "    \n",
    "    f.set_title(dataset2.columns.values[i - 1])\n",
    "\n",
    "    vals = np.size(dataset2.iloc[:, i - 1].unique())\n",
    "    \n",
    "    plt.hist(dataset2.iloc[:, i - 1], bins=vals, color='#3F5D7D',)\n",
    "    \n",
    "plt.tight_layout(rect=[0, 0.03, 1, 0.95])"
   ]
  },
  {
   "cell_type": "markdown",
   "id": "95c28352",
   "metadata": {},
   "source": [
    "#### Pie Charts"
   ]
  },
  {
   "cell_type": "code",
   "execution_count": 25,
   "id": "10048694",
   "metadata": {},
   "outputs": [],
   "source": [
    "cat_cols = dataset[['housing', 'is_referred', 'app_downloaded',\n",
    "                    'web_user', 'app_web_user', 'ios_user',\n",
    "                    'android_user', 'registered_phones', 'payment_type',\n",
    "                    'waiting_4_loan', 'cancelled_loan',\n",
    "                    'received_loan', 'rejected_loan', 'zodiac_sign',\n",
    "                    'left_for_two_month_plus', 'left_for_one_month', 'is_referred']]"
   ]
  },
  {
   "cell_type": "code",
   "execution_count": 26,
   "id": "ba4405b3",
   "metadata": {},
   "outputs": [
    {
     "data": {
      "image/png": "[encoded data removed]",
      "text/plain": [
       "<Figure size 1080x864 with 17 Axes>"
      ]
     },
     "metadata": {},
     "output_type": "display_data"
    }
   ],
   "source": [
    "fig = plt.figure(figsize=(15, 12))\n",
    "plt.suptitle('Pie Chart Distributions for Categorical Columns', fontsize=20)\n",
    "for i in range(1, cat_cols.shape[1] + 1):\n",
    "    plt.subplot(6, 3, i)\n",
    "    f = plt.gca()\n",
    "    f.axes.get_yaxis().set_visible(False)\n",
    "    f.set_title(cat_cols.columns.values[i - 1])\n",
    "   \n",
    "    values = cat_cols.iloc[:, i - 1].value_counts().values\n",
    "    index = cat_cols.iloc[:, i - 1].value_counts().index\n",
    "    plt.pie(values, labels = index)\n",
    "    plt.axis('equal')\n",
    "fig.tight_layout(rect=[0, 0.03, 1, 0.95])"
   ]
  },
  {
   "cell_type": "markdown",
   "id": "3f5c9fc4",
   "metadata": {},
   "source": [
    "### Exploring Uneven Features (enables to prevent biased outcomes)"
   ]
  },
  {
   "cell_type": "code",
   "execution_count": 28,
   "id": "eaf2f96c",
   "metadata": {},
   "outputs": [
    {
     "data": {
      "text/plain": [
       "0    27\n",
       "1     8\n",
       "Name: churn, dtype: int64"
      ]
     },
     "execution_count": 28,
     "metadata": {},
     "output_type": "execute_result"
    }
   ],
   "source": [
    "dataset[cat_cols.waiting_4_loan == 1].churn.value_counts()"
   ]
  },
  {
   "cell_type": "code",
   "execution_count": 29,
   "id": "62ed43fe",
   "metadata": {},
   "outputs": [
    {
     "data": {
      "text/plain": [
       "1    274\n",
       "0    234\n",
       "Name: churn, dtype: int64"
      ]
     },
     "execution_count": 29,
     "metadata": {},
     "output_type": "execute_result"
    }
   ],
   "source": [
    "dataset[cat_cols.cancelled_loan == 1].churn.value_counts()"
   ]
  },
  {
   "cell_type": "code",
   "execution_count": 30,
   "id": "86928be2",
   "metadata": {},
   "outputs": [
    {
     "data": {
      "text/plain": [
       "1    292\n",
       "0    199\n",
       "Name: churn, dtype: int64"
      ]
     },
     "execution_count": 30,
     "metadata": {},
     "output_type": "execute_result"
    }
   ],
   "source": [
    "dataset[cat_cols.received_loan == 1].churn.value_counts()"
   ]
  },
  {
   "cell_type": "code",
   "execution_count": 31,
   "id": "fb4b43a0",
   "metadata": {},
   "outputs": [
    {
     "data": {
      "text/plain": [
       "1    107\n",
       "0     25\n",
       "Name: churn, dtype: int64"
      ]
     },
     "execution_count": 31,
     "metadata": {},
     "output_type": "execute_result"
    }
   ],
   "source": [
    "dataset[cat_cols.rejected_loan == 1].churn.value_counts()"
   ]
  },
  {
   "cell_type": "code",
   "execution_count": 32,
   "id": "0e4664ad",
   "metadata": {},
   "outputs": [
    {
     "data": {
      "text/plain": [
       "1    266\n",
       "0    222\n",
       "Name: churn, dtype: int64"
      ]
     },
     "execution_count": 32,
     "metadata": {},
     "output_type": "execute_result"
    }
   ],
   "source": [
    "dataset[cat_cols.left_for_one_month == 1].churn.value_counts()"
   ]
  },
  {
   "cell_type": "markdown",
   "id": "67c8ee53",
   "metadata": {},
   "source": [
    "### Correlation plots"
   ]
  },
  {
   "cell_type": "markdown",
   "id": "55b1114d",
   "metadata": {},
   "source": [
    "Correlation of each of the independent variables with the dependent variable. In other words, which features impact the model the most?"
   ]
  },
  {
   "cell_type": "markdown",
   "id": "1e71a130",
   "metadata": {},
   "source": [
    "To work this out, we can only use the numerical and binary variables (no categorical variables). So let's create a dataset with those variables only:"
   ]
  },
  {
   "cell_type": "code",
   "execution_count": 31,
   "id": "9c2de057",
   "metadata": {},
   "outputs": [
    {
     "data": {
      "text/plain": [
       "<AxesSubplot:title={'center':'Correlation with Response variable'}>"
      ]
     },
     "execution_count": 31,
     "metadata": {},
     "output_type": "execute_result"
    },
    {
     "data": {
      "image/png": "[encoded data removed]",
      "text/plain": [
       "<Figure size 1440x720 with 1 Axes>"
      ]
     },
     "metadata": {
      "needs_background": "light"
     },
     "output_type": "display_data"
    }
   ],
   "source": [
    "dataset2.drop(['housing', 'payment_type','registered_phones', 'zodiac_sign'],axis=1).corrwith(dataset.churn).plot.bar(figsize=(20,10),\n",
    "              title = 'Correlation with Response variable',\n",
    "              fontsize = 15, rot = 45,\n",
    "              grid = True)"
   ]
  },
  {
   "cell_type": "markdown",
   "id": "2656383a",
   "metadata": {},
   "source": [
    "### Correlation matrix"
   ]
  },
  {
   "cell_type": "markdown",
   "id": "48cf262f",
   "metadata": {},
   "source": [
    "Let's check the correlation of the independent variables one with another."
   ]
  },
  {
   "cell_type": "code",
   "execution_count": 34,
   "id": "98673a1b",
   "metadata": {},
   "outputs": [
    {
     "data": {
      "text/plain": [
       "<AxesSubplot:>"
      ]
     },
     "execution_count": 34,
     "metadata": {},
     "output_type": "execute_result"
    },
    {
     "data": {
      "image/png": "[encoded data removed]",
      "text/plain": [
       "<Figure size 1296x1080 with 2 Axes>"
      ]
     },
     "metadata": {},
     "output_type": "display_data"
    }
   ],
   "source": [
    "sns.set(style=\"white\")\n",
    "\n",
    "# Compute the correlation matrix\n",
    "corr = dataset.drop(columns = ['user', 'churn']).corr() # using every column execpt the dependent and the 'user' variables\n",
    "\n",
    "# Generate a mask for the upper triangle\n",
    "mask = np.zeros_like(corr, dtype=bool)\n",
    "mask[np.triu_indices_from(mask)] = True\n",
    "\n",
    "# Set up the matplotlib figure\n",
    "f, ax = plt.subplots(figsize=(18, 15))\n",
    "\n",
    "# Generate a custom diverging colormap\n",
    "cmap = sns.diverging_palette(220, 10, as_cmap=True)\n",
    "\n",
    "# Draw the heatmap with the mask and correct aspect ratio\n",
    "sns.heatmap(corr, mask=mask, cmap=cmap, vmax=.3, center=0,\n",
    "            square=True, linewidths=.5, cbar_kws={\"shrink\": .5})"
   ]
  },
  {
   "cell_type": "markdown",
   "id": "30a86cc1",
   "metadata": {},
   "source": [
    "Here, the optimal correlation matrix would be showing a correlation of 0 between each of the variable which would mean that each variable here is independent from all other variables. In that way, we could see the direct relationship of each independent variable with the dependent variable. Unfortunetely, that usually doesn't happen. "
   ]
  },
  {
   "cell_type": "markdown",
   "id": "418c2958",
   "metadata": {},
   "source": [
    "Here we can see for example that IOS user and Android user are highly negatively correlated. This obviously makes sense since customers usually don't have both operating systems. The solution here would be to drop one of those columns and use a dummy variable instead."
   ]
  },
  {
   "cell_type": "markdown",
   "id": "6ee5ed43",
   "metadata": {},
   "source": [
    "app_web_user is a function of app_user and web_user : if both are = to 1, then app_web_user will be = to 1. Hence, this variable is not independent. She should drop this column for further analysis. "
   ]
  },
  {
   "cell_type": "code",
   "execution_count": 6,
   "id": "6fe9caf9",
   "metadata": {},
   "outputs": [],
   "source": [
    "dataset = dataset.drop(columns = ['app_web_user'])"
   ]
  },
  {
   "cell_type": "code",
   "execution_count": 7,
   "id": "e254e694",
   "metadata": {},
   "outputs": [],
   "source": [
    "dataset.to_csv('datasets/new_churn_data.csv', index = False)"
   ]
  },
  {
   "cell_type": "markdown",
   "id": "bdcd2144",
   "metadata": {},
   "source": [
    "## Model Preparation"
   ]
  },
  {
   "cell_type": "code",
   "execution_count": 120,
   "id": "a530d021",
   "metadata": {},
   "outputs": [],
   "source": [
    "df = pd.read_csv('datasets/new_churn_data.csv')"
   ]
  },
  {
   "cell_type": "markdown",
   "id": "a52aeab8",
   "metadata": {},
   "source": [
    "Data Preparation :"
   ]
  },
  {
   "cell_type": "code",
   "execution_count": 121,
   "id": "96a79b37",
   "metadata": {},
   "outputs": [],
   "source": [
    "user_identifier = df['user']\n",
    "df = df.drop(columns = ['user'])"
   ]
  },
  {
   "cell_type": "markdown",
   "id": "eca5d9ac",
   "metadata": {},
   "source": [
    "### One-Hot Encoding"
   ]
  },
  {
   "cell_type": "markdown",
   "id": "a432c657",
   "metadata": {},
   "source": [
    "The function of One-Hot Encoding is to transform categorical variables into dummy variables.\n",
    "In essence, it divides one column into new columns based on each of the different category for this variable."
   ]
  },
  {
   "cell_type": "code",
   "execution_count": 122,
   "id": "5ca3ad7a",
   "metadata": {},
   "outputs": [],
   "source": [
    "df = pd.get_dummies(df)"
   ]
  },
  {
   "cell_type": "code",
   "execution_count": 123,
   "id": "174f9fc8",
   "metadata": {},
   "outputs": [
    {
     "data": {
      "text/plain": [
       "Index(['churn', 'age', 'deposits', 'withdrawal', 'purchases_partners',\n",
       "       'purchases', 'cc_taken', 'cc_recommended', 'cc_disliked', 'cc_liked',\n",
       "       'cc_application_begin', 'app_downloaded', 'web_user', 'ios_user',\n",
       "       'android_user', 'registered_phones', 'waiting_4_loan', 'cancelled_loan',\n",
       "       'received_loan', 'rejected_loan', 'left_for_two_month_plus',\n",
       "       'left_for_one_month', 'reward_rate', 'is_referred', 'housing_O',\n",
       "       'housing_R', 'housing_na', 'payment_type_Bi-Weekly',\n",
       "       'payment_type_Monthly', 'payment_type_Semi-Monthly',\n",
       "       'payment_type_Weekly', 'payment_type_na', 'zodiac_sign_Aquarius',\n",
       "       'zodiac_sign_Aries', 'zodiac_sign_Cancer', 'zodiac_sign_Capricorn',\n",
       "       'zodiac_sign_Gemini', 'zodiac_sign_Leo', 'zodiac_sign_Libra',\n",
       "       'zodiac_sign_Pisces', 'zodiac_sign_Sagittarius', 'zodiac_sign_Scorpio',\n",
       "       'zodiac_sign_Taurus', 'zodiac_sign_Virgo', 'zodiac_sign_na'],\n",
       "      dtype='object')"
      ]
     },
     "execution_count": 123,
     "metadata": {},
     "output_type": "execute_result"
    }
   ],
   "source": [
    "df.columns"
   ]
  },
  {
   "cell_type": "code",
   "execution_count": 124,
   "id": "8eb84937",
   "metadata": {},
   "outputs": [],
   "source": [
    "# Removing one base variable for each dummy variable. We can also do so by adding the argument: dummy_na: 'bool' = False\n",
    "df = df.drop(columns = ['housing_na', 'zodiac_sign_na', 'payment_type_na']) "
   ]
  },
  {
   "cell_type": "markdown",
   "id": "dfa49e81",
   "metadata": {},
   "source": [
    "### Train Test Split"
   ]
  },
  {
   "cell_type": "code",
   "execution_count": 125,
   "id": "22e7b37a",
   "metadata": {},
   "outputs": [],
   "source": [
    "from sklearn.model_selection import train_test_split\n",
    "X_train, X_test, y_train, y_test = train_test_split(df.drop(columns = 'churn'), df['churn'],\n",
    "                                                    test_size = 0.2,\n",
    "                                                    random_state = 0)"
   ]
  },
  {
   "cell_type": "markdown",
   "id": "a02c5cd0",
   "metadata": {},
   "source": [
    "### Balancing the Training Set, or Stratification"
   ]
  },
  {
   "cell_type": "markdown",
   "id": "e7f9ec6d",
   "metadata": {},
   "source": [
    "Here we want to have a balanced number of churn values (1s and 0s)"
   ]
  },
  {
   "cell_type": "code",
   "execution_count": 126,
   "id": "9f77a32f",
   "metadata": {},
   "outputs": [
    {
     "data": {
      "text/plain": [
       "0    8934\n",
       "1    6238\n",
       "Name: churn, dtype: int64"
      ]
     },
     "execution_count": 126,
     "metadata": {},
     "output_type": "execute_result"
    }
   ],
   "source": [
    "y_train.value_counts()"
   ]
  },
  {
   "cell_type": "code",
   "execution_count": 127,
   "id": "51c9c4fb",
   "metadata": {},
   "outputs": [],
   "source": [
    "pos_index = y_train[y_train.values == 1].index\n",
    "neg_index = y_train[y_train.values == 0].index"
   ]
  },
  {
   "cell_type": "code",
   "execution_count": 128,
   "id": "53369ce6",
   "metadata": {},
   "outputs": [],
   "source": [
    "if len(pos_index) > len(neg_index):\n",
    "    higher = pos_index\n",
    "    lower = neg_index\n",
    "else:\n",
    "    higher = neg_index\n",
    "    lower = pos_index"
   ]
  },
  {
   "cell_type": "code",
   "execution_count": 129,
   "id": "25c9b45d",
   "metadata": {},
   "outputs": [],
   "source": [
    "import random\n",
    "\n",
    "random.seed(0)\n",
    "higher = np.random.choice(higher, size=len(lower)) # making the number of 'higher' values the same as 'lower' \n",
    "# values by chopping some of them\n",
    "lower = np.asarray(lower)\n",
    "new_indexes = np.concatenate((lower, higher)) # new indexes made of the combination of higher and lower indexes, \n",
    "# both of which have now the same size"
   ]
  },
  {
   "cell_type": "code",
   "execution_count": 130,
   "id": "cdcc9c2c",
   "metadata": {},
   "outputs": [],
   "source": [
    "X_train = X_train.loc[new_indexes,]\n",
    "y_train = y_train[new_indexes]"
   ]
  },
  {
   "cell_type": "markdown",
   "id": "aac69682",
   "metadata": {},
   "source": [
    "### Feature Scaling, aka normalizing numerical fields"
   ]
  },
  {
   "cell_type": "code",
   "execution_count": 131,
   "id": "d4a8e07f",
   "metadata": {},
   "outputs": [],
   "source": [
    "from sklearn.preprocessing import StandardScaler\n",
    "sc_X = StandardScaler()\n",
    "X_train2 = pd.DataFrame(sc_X.fit_transform(X_train)) # The tranform function turns the result into a numpy array which \n",
    "# loses its index and the column, this is why here we turn it back into a DataFrame \n",
    "X_test2 = pd.DataFrame(sc_X.transform(X_test))\n",
    "X_train2.columns = X_train.columns.values\n",
    "X_test2.columns = X_test.columns.values\n",
    "X_train2.index = X_train.index.values\n",
    "X_test2.index = X_test.index.values\n",
    "X_train = X_train2\n",
    "X_test = X_test2"
   ]
  },
  {
   "cell_type": "markdown",
   "id": "8dea774b",
   "metadata": {},
   "source": [
    "## Model Building"
   ]
  },
  {
   "cell_type": "markdown",
   "id": "1a3391d9",
   "metadata": {},
   "source": [
    "### Fitting Model to the Training Set"
   ]
  },
  {
   "cell_type": "code",
   "execution_count": 132,
   "id": "59d33a7a",
   "metadata": {},
   "outputs": [
    {
     "data": {
      "text/plain": [
       "LogisticRegression(random_state=0)"
      ]
     },
     "execution_count": 132,
     "metadata": {},
     "output_type": "execute_result"
    }
   ],
   "source": [
    "from sklearn.linear_model import LogisticRegression\n",
    "classifier = LogisticRegression(random_state = 0) # it is a classification problem so we use the classifier model\n",
    "classifier.fit(X_train, y_train) # fitting the model to the training set"
   ]
  },
  {
   "cell_type": "markdown",
   "id": "0ea4ede5",
   "metadata": {},
   "source": [
    "### Predicting Test Set"
   ]
  },
  {
   "cell_type": "code",
   "execution_count": 133,
   "id": "11f92e5b",
   "metadata": {},
   "outputs": [],
   "source": [
    "y_pred = classifier.predict(X_test)"
   ]
  },
  {
   "cell_type": "markdown",
   "id": "6a46c5ff",
   "metadata": {},
   "source": [
    "### Evaluating Results"
   ]
  },
  {
   "cell_type": "code",
   "execution_count": 134,
   "id": "714f6f47",
   "metadata": {},
   "outputs": [],
   "source": [
    "from sklearn.metrics import confusion_matrix, accuracy_score, f1_score, precision_score, recall_score"
   ]
  },
  {
   "cell_type": "code",
   "execution_count": 135,
   "id": "beb10185",
   "metadata": {},
   "outputs": [],
   "source": [
    "cm = confusion_matrix(y_test, y_pred) # we will plot it later on"
   ]
  },
  {
   "cell_type": "code",
   "execution_count": 136,
   "id": "04afa1bf",
   "metadata": {},
   "outputs": [
    {
     "data": {
      "text/plain": [
       "0.6411811231215396"
      ]
     },
     "execution_count": 136,
     "metadata": {},
     "output_type": "execute_result"
    }
   ],
   "source": [
    "accuracy_score(y_test, y_pred)"
   ]
  },
  {
   "cell_type": "code",
   "execution_count": 137,
   "id": "09a614fc",
   "metadata": {},
   "outputs": [
    {
     "data": {
      "text/plain": [
       "0.5474317445627025"
      ]
     },
     "execution_count": 137,
     "metadata": {},
     "output_type": "execute_result"
    }
   ],
   "source": [
    "precision_score(y_test, y_pred) # tp / (tp + fp)"
   ]
  },
  {
   "cell_type": "code",
   "execution_count": 138,
   "id": "51998a68",
   "metadata": {},
   "outputs": [
    {
     "data": {
      "text/plain": [
       "0.7554278416347382"
      ]
     },
     "execution_count": 138,
     "metadata": {},
     "output_type": "execute_result"
    }
   ],
   "source": [
    "recall_score(y_test, y_pred) # tp / (tp + fn)"
   ]
  },
  {
   "cell_type": "markdown",
   "id": "9a29edc4",
   "metadata": {},
   "source": [
    "When we have a decent accuracy but a poor precision and a high recall, we use f1 score to give a better measure of how our model is performing."
   ]
  },
  {
   "cell_type": "code",
   "execution_count": 139,
   "id": "2d43105c",
   "metadata": {},
   "outputs": [
    {
     "data": {
      "text/plain": [
       "0.6348269385564799"
      ]
     },
     "execution_count": 139,
     "metadata": {},
     "output_type": "execute_result"
    }
   ],
   "source": [
    "f1_score(y_test, y_pred)"
   ]
  },
  {
   "cell_type": "markdown",
   "id": "254b4681",
   "metadata": {},
   "source": [
    "Plotting the confusing matrix :"
   ]
  },
  {
   "cell_type": "code",
   "execution_count": 140,
   "id": "fcde5451",
   "metadata": {},
   "outputs": [
    {
     "name": "stdout",
     "output_type": "stream",
     "text": [
      "Test Data Accuracy: 0.6412\n"
     ]
    },
    {
     "data": {
      "image/png": "[encoded data removed]",
      "text/plain": [
       "<Figure size 504x360 with 2 Axes>"
      ]
     },
     "metadata": {},
     "output_type": "display_data"
    }
   ],
   "source": [
    "df_cm = pd.DataFrame(cm, index = (0, 1), columns = (0, 1))\n",
    "plt.figure(figsize = (7,5))\n",
    "sns.set(font_scale=1.4)\n",
    "sns.heatmap(df_cm, annot=True, fmt='g')\n",
    "print(\"Test Data Accuracy: %0.4f\" % accuracy_score(y_test, y_pred))"
   ]
  },
  {
   "cell_type": "markdown",
   "id": "b7b20267",
   "metadata": {},
   "source": [
    "### Applying k-Fold Cross Validation"
   ]
  },
  {
   "cell_type": "code",
   "execution_count": 141,
   "id": "4228ea1c",
   "metadata": {},
   "outputs": [
    {
     "name": "stdout",
     "output_type": "stream",
     "text": [
      "SVM Accuracy: 0.659 (+/- 0.035)\n"
     ]
    }
   ],
   "source": [
    "from sklearn.model_selection import cross_val_score\n",
    "accuracies = cross_val_score(estimator = classifier, X = X_train, y = y_train, cv = 10)\n",
    "print(\"SVM Accuracy: %0.3f (+/- %0.3f)\" % (accuracies.mean(), accuracies.std() * 2))"
   ]
  },
  {
   "cell_type": "markdown",
   "id": "4ea922c2",
   "metadata": {},
   "source": [
    "### Analyzing Coefficients"
   ]
  },
  {
   "cell_type": "code",
   "execution_count": 142,
   "id": "d05623a5",
   "metadata": {},
   "outputs": [
    {
     "data": {
      "text/html": [
       "<div>\n",
       "<style scoped>\n",
       "    .dataframe tbody tr th:only-of-type {\n",
       "        vertical-align: middle;\n",
       "    }\n",
       "\n",
       "    .dataframe tbody tr th {\n",
       "        vertical-align: top;\n",
       "    }\n",
       "\n",
       "    .dataframe thead th {\n",
       "        text-align: right;\n",
       "    }\n",
       "</style>\n",
       "<table border=\"1\" class=\"dataframe\">\n",
       "  <thead>\n",
       "    <tr style=\"text-align: right;\">\n",
       "      <th></th>\n",
       "      <th>features</th>\n",
       "      <th>coef</th>\n",
       "    </tr>\n",
       "  </thead>\n",
       "  <tbody>\n",
       "    <tr>\n",
       "      <th>0</th>\n",
       "      <td>age</td>\n",
       "      <td>-0.189091</td>\n",
       "    </tr>\n",
       "    <tr>\n",
       "      <th>1</th>\n",
       "      <td>deposits</td>\n",
       "      <td>0.229092</td>\n",
       "    </tr>\n",
       "    <tr>\n",
       "      <th>2</th>\n",
       "      <td>withdrawal</td>\n",
       "      <td>0.016899</td>\n",
       "    </tr>\n",
       "    <tr>\n",
       "      <th>3</th>\n",
       "      <td>purchases_partners</td>\n",
       "      <td>-0.748288</td>\n",
       "    </tr>\n",
       "    <tr>\n",
       "      <th>4</th>\n",
       "      <td>purchases</td>\n",
       "      <td>-0.355702</td>\n",
       "    </tr>\n",
       "    <tr>\n",
       "      <th>5</th>\n",
       "      <td>cc_taken</td>\n",
       "      <td>0.054912</td>\n",
       "    </tr>\n",
       "    <tr>\n",
       "      <th>6</th>\n",
       "      <td>cc_recommended</td>\n",
       "      <td>0.046144</td>\n",
       "    </tr>\n",
       "    <tr>\n",
       "      <th>7</th>\n",
       "      <td>cc_disliked</td>\n",
       "      <td>0.000509</td>\n",
       "    </tr>\n",
       "    <tr>\n",
       "      <th>8</th>\n",
       "      <td>cc_liked</td>\n",
       "      <td>-0.027992</td>\n",
       "    </tr>\n",
       "    <tr>\n",
       "      <th>9</th>\n",
       "      <td>cc_application_begin</td>\n",
       "      <td>0.046823</td>\n",
       "    </tr>\n",
       "    <tr>\n",
       "      <th>10</th>\n",
       "      <td>app_downloaded</td>\n",
       "      <td>-0.079536</td>\n",
       "    </tr>\n",
       "    <tr>\n",
       "      <th>11</th>\n",
       "      <td>web_user</td>\n",
       "      <td>0.159002</td>\n",
       "    </tr>\n",
       "    <tr>\n",
       "      <th>12</th>\n",
       "      <td>ios_user</td>\n",
       "      <td>0.154348</td>\n",
       "    </tr>\n",
       "    <tr>\n",
       "      <th>13</th>\n",
       "      <td>android_user</td>\n",
       "      <td>0.049483</td>\n",
       "    </tr>\n",
       "    <tr>\n",
       "      <th>14</th>\n",
       "      <td>registered_phones</td>\n",
       "      <td>0.083713</td>\n",
       "    </tr>\n",
       "    <tr>\n",
       "      <th>15</th>\n",
       "      <td>waiting_4_loan</td>\n",
       "      <td>-0.042884</td>\n",
       "    </tr>\n",
       "    <tr>\n",
       "      <th>16</th>\n",
       "      <td>cancelled_loan</td>\n",
       "      <td>0.068081</td>\n",
       "    </tr>\n",
       "    <tr>\n",
       "      <th>17</th>\n",
       "      <td>received_loan</td>\n",
       "      <td>0.103760</td>\n",
       "    </tr>\n",
       "    <tr>\n",
       "      <th>18</th>\n",
       "      <td>rejected_loan</td>\n",
       "      <td>0.106880</td>\n",
       "    </tr>\n",
       "    <tr>\n",
       "      <th>19</th>\n",
       "      <td>left_for_two_month_plus</td>\n",
       "      <td>0.025505</td>\n",
       "    </tr>\n",
       "    <tr>\n",
       "      <th>20</th>\n",
       "      <td>left_for_one_month</td>\n",
       "      <td>0.024502</td>\n",
       "    </tr>\n",
       "    <tr>\n",
       "      <th>21</th>\n",
       "      <td>reward_rate</td>\n",
       "      <td>-0.282648</td>\n",
       "    </tr>\n",
       "    <tr>\n",
       "      <th>22</th>\n",
       "      <td>is_referred</td>\n",
       "      <td>0.058563</td>\n",
       "    </tr>\n",
       "    <tr>\n",
       "      <th>23</th>\n",
       "      <td>housing_O</td>\n",
       "      <td>-0.038202</td>\n",
       "    </tr>\n",
       "    <tr>\n",
       "      <th>24</th>\n",
       "      <td>housing_R</td>\n",
       "      <td>0.053367</td>\n",
       "    </tr>\n",
       "    <tr>\n",
       "      <th>25</th>\n",
       "      <td>payment_type_Bi-Weekly</td>\n",
       "      <td>-0.088105</td>\n",
       "    </tr>\n",
       "    <tr>\n",
       "      <th>26</th>\n",
       "      <td>payment_type_Monthly</td>\n",
       "      <td>-0.041659</td>\n",
       "    </tr>\n",
       "    <tr>\n",
       "      <th>27</th>\n",
       "      <td>payment_type_Semi-Monthly</td>\n",
       "      <td>-0.093774</td>\n",
       "    </tr>\n",
       "    <tr>\n",
       "      <th>28</th>\n",
       "      <td>payment_type_Weekly</td>\n",
       "      <td>0.024771</td>\n",
       "    </tr>\n",
       "    <tr>\n",
       "      <th>29</th>\n",
       "      <td>zodiac_sign_Aquarius</td>\n",
       "      <td>-0.011431</td>\n",
       "    </tr>\n",
       "    <tr>\n",
       "      <th>30</th>\n",
       "      <td>zodiac_sign_Aries</td>\n",
       "      <td>0.041268</td>\n",
       "    </tr>\n",
       "    <tr>\n",
       "      <th>31</th>\n",
       "      <td>zodiac_sign_Cancer</td>\n",
       "      <td>0.031787</td>\n",
       "    </tr>\n",
       "    <tr>\n",
       "      <th>32</th>\n",
       "      <td>zodiac_sign_Capricorn</td>\n",
       "      <td>0.057132</td>\n",
       "    </tr>\n",
       "    <tr>\n",
       "      <th>33</th>\n",
       "      <td>zodiac_sign_Gemini</td>\n",
       "      <td>-0.006696</td>\n",
       "    </tr>\n",
       "    <tr>\n",
       "      <th>34</th>\n",
       "      <td>zodiac_sign_Leo</td>\n",
       "      <td>-0.000065</td>\n",
       "    </tr>\n",
       "    <tr>\n",
       "      <th>35</th>\n",
       "      <td>zodiac_sign_Libra</td>\n",
       "      <td>0.017034</td>\n",
       "    </tr>\n",
       "    <tr>\n",
       "      <th>36</th>\n",
       "      <td>zodiac_sign_Pisces</td>\n",
       "      <td>0.048612</td>\n",
       "    </tr>\n",
       "    <tr>\n",
       "      <th>37</th>\n",
       "      <td>zodiac_sign_Sagittarius</td>\n",
       "      <td>-0.017226</td>\n",
       "    </tr>\n",
       "    <tr>\n",
       "      <th>38</th>\n",
       "      <td>zodiac_sign_Scorpio</td>\n",
       "      <td>-0.012091</td>\n",
       "    </tr>\n",
       "    <tr>\n",
       "      <th>39</th>\n",
       "      <td>zodiac_sign_Taurus</td>\n",
       "      <td>0.020991</td>\n",
       "    </tr>\n",
       "    <tr>\n",
       "      <th>40</th>\n",
       "      <td>zodiac_sign_Virgo</td>\n",
       "      <td>0.012807</td>\n",
       "    </tr>\n",
       "  </tbody>\n",
       "</table>\n",
       "</div>"
      ],
      "text/plain": [
       "                     features      coef\n",
       "0                         age -0.189091\n",
       "1                    deposits  0.229092\n",
       "2                  withdrawal  0.016899\n",
       "3          purchases_partners -0.748288\n",
       "4                   purchases -0.355702\n",
       "5                    cc_taken  0.054912\n",
       "6              cc_recommended  0.046144\n",
       "7                 cc_disliked  0.000509\n",
       "8                    cc_liked -0.027992\n",
       "9        cc_application_begin  0.046823\n",
       "10             app_downloaded -0.079536\n",
       "11                   web_user  0.159002\n",
       "12                   ios_user  0.154348\n",
       "13               android_user  0.049483\n",
       "14          registered_phones  0.083713\n",
       "15             waiting_4_loan -0.042884\n",
       "16             cancelled_loan  0.068081\n",
       "17              received_loan  0.103760\n",
       "18              rejected_loan  0.106880\n",
       "19    left_for_two_month_plus  0.025505\n",
       "20         left_for_one_month  0.024502\n",
       "21                reward_rate -0.282648\n",
       "22                is_referred  0.058563\n",
       "23                  housing_O -0.038202\n",
       "24                  housing_R  0.053367\n",
       "25     payment_type_Bi-Weekly -0.088105\n",
       "26       payment_type_Monthly -0.041659\n",
       "27  payment_type_Semi-Monthly -0.093774\n",
       "28        payment_type_Weekly  0.024771\n",
       "29       zodiac_sign_Aquarius -0.011431\n",
       "30          zodiac_sign_Aries  0.041268\n",
       "31         zodiac_sign_Cancer  0.031787\n",
       "32      zodiac_sign_Capricorn  0.057132\n",
       "33         zodiac_sign_Gemini -0.006696\n",
       "34            zodiac_sign_Leo -0.000065\n",
       "35          zodiac_sign_Libra  0.017034\n",
       "36         zodiac_sign_Pisces  0.048612\n",
       "37    zodiac_sign_Sagittarius -0.017226\n",
       "38        zodiac_sign_Scorpio -0.012091\n",
       "39         zodiac_sign_Taurus  0.020991\n",
       "40          zodiac_sign_Virgo  0.012807"
      ]
     },
     "execution_count": 142,
     "metadata": {},
     "output_type": "execute_result"
    }
   ],
   "source": [
    "pd.concat([pd.DataFrame(X_train.columns, columns = [\"features\"]),\n",
    "           pd.DataFrame(np.transpose(classifier.coef_), columns = [\"coef\"])\n",
    "           ],axis = 1)"
   ]
  },
  {
   "cell_type": "markdown",
   "id": "aa5bdc57",
   "metadata": {},
   "source": [
    "## Feature Selection"
   ]
  },
  {
   "cell_type": "markdown",
   "id": "db8d28bc",
   "metadata": {},
   "source": [
    "### Recursive Feature Elimination"
   ]
  },
  {
   "cell_type": "code",
   "execution_count": 143,
   "id": "e2d13300",
   "metadata": {},
   "outputs": [],
   "source": [
    "from sklearn.feature_selection import RFE\n",
    "from sklearn.linear_model import LogisticRegression"
   ]
  },
  {
   "cell_type": "markdown",
   "id": "06217171",
   "metadata": {},
   "source": [
    "#### Model to test"
   ]
  },
  {
   "cell_type": "code",
   "execution_count": 144,
   "id": "b67e4f30",
   "metadata": {},
   "outputs": [],
   "source": [
    "classifier = LogisticRegression()"
   ]
  },
  {
   "cell_type": "markdown",
   "id": "1873067e",
   "metadata": {},
   "source": [
    "#### Select Best X Features"
   ]
  },
  {
   "cell_type": "code",
   "execution_count": 145,
   "id": "de7c83d4",
   "metadata": {},
   "outputs": [
    {
     "data": {
      "text/plain": [
       "(12476, 41)"
      ]
     },
     "execution_count": 145,
     "metadata": {},
     "output_type": "execute_result"
    }
   ],
   "source": [
    "X_train.shape"
   ]
  },
  {
   "cell_type": "code",
   "execution_count": 146,
   "id": "84447bb6",
   "metadata": {},
   "outputs": [],
   "source": [
    "rfe = RFE(classifier, n_features_to_select=20)\n",
    "rfe = rfe.fit(X_train, y_train)"
   ]
  },
  {
   "cell_type": "markdown",
   "id": "a6c8a5e2",
   "metadata": {},
   "source": [
    "#### Summarize the selection of the attributes"
   ]
  },
  {
   "cell_type": "markdown",
   "id": "8e00c89b",
   "metadata": {},
   "source": [
    "We want to know which features/columns are included in the final result or not as well as their importance ranking."
   ]
  },
  {
   "cell_type": "code",
   "execution_count": 147,
   "id": "606fc3f3",
   "metadata": {},
   "outputs": [
    {
     "name": "stdout",
     "output_type": "stream",
     "text": [
      "[ True  True False  True  True  True False False False  True  True  True\n",
      "  True False  True False  True  True  True False False  True  True False\n",
      "  True  True  True  True False False False False  True False False False\n",
      " False False False False False]\n"
     ]
    }
   ],
   "source": [
    "print(rfe.support_)"
   ]
  },
  {
   "cell_type": "code",
   "execution_count": 148,
   "id": "4a38562d",
   "metadata": {},
   "outputs": [
    {
     "name": "stdout",
     "output_type": "stream",
     "text": [
      "[ 1  1 16  1  1  1  5 21  9  1  1  1  1  2  1  3  1  1  1 10 11  1  1  7\n",
      "  1  1  1  1 12 19  6  8  1 20 22 14  4 17 18 13 15]\n"
     ]
    }
   ],
   "source": [
    "print(rfe.ranking_)"
   ]
  },
  {
   "cell_type": "code",
   "execution_count": 149,
   "id": "0274afdd",
   "metadata": {},
   "outputs": [
    {
     "data": {
      "text/plain": [
       "Index(['age', 'deposits', 'purchases_partners', 'purchases', 'cc_taken',\n",
       "       'cc_application_begin', 'app_downloaded', 'web_user', 'ios_user',\n",
       "       'registered_phones', 'cancelled_loan', 'received_loan', 'rejected_loan',\n",
       "       'reward_rate', 'is_referred', 'housing_R', 'payment_type_Bi-Weekly',\n",
       "       'payment_type_Monthly', 'payment_type_Semi-Monthly',\n",
       "       'zodiac_sign_Capricorn'],\n",
       "      dtype='object')"
      ]
     },
     "execution_count": 149,
     "metadata": {},
     "output_type": "execute_result"
    }
   ],
   "source": [
    "X_train.columns[rfe.support_]"
   ]
  },
  {
   "cell_type": "markdown",
   "id": "1f41856c",
   "metadata": {},
   "source": [
    "### Fitting the new Model to the Training Set"
   ]
  },
  {
   "cell_type": "code",
   "execution_count": 150,
   "id": "86037a95",
   "metadata": {},
   "outputs": [
    {
     "data": {
      "text/plain": [
       "LogisticRegression()"
      ]
     },
     "execution_count": 150,
     "metadata": {},
     "output_type": "execute_result"
    }
   ],
   "source": [
    "from sklearn.linear_model import LogisticRegression\n",
    "classifier = LogisticRegression()\n",
    "classifier.fit(X_train[X_train.columns[rfe.support_]], y_train)"
   ]
  },
  {
   "cell_type": "markdown",
   "id": "c6f4f8e5",
   "metadata": {},
   "source": [
    "### Predicting Test Set"
   ]
  },
  {
   "cell_type": "code",
   "execution_count": 151,
   "id": "5c329130",
   "metadata": {},
   "outputs": [],
   "source": [
    "y_pred = classifier.predict(X_test[X_train.columns[rfe.support_]])"
   ]
  },
  {
   "cell_type": "markdown",
   "id": "5b1aac03",
   "metadata": {},
   "source": [
    "### Evaluating Results"
   ]
  },
  {
   "cell_type": "code",
   "execution_count": 152,
   "id": "e21abc24",
   "metadata": {},
   "outputs": [],
   "source": [
    "from sklearn.metrics import confusion_matrix, accuracy_score, f1_score, precision_score, recall_score\n",
    "cm = confusion_matrix(y_test, y_pred)"
   ]
  },
  {
   "cell_type": "code",
   "execution_count": 153,
   "id": "58d58d5b",
   "metadata": {},
   "outputs": [
    {
     "data": {
      "text/plain": [
       "0.6388083311363038"
      ]
     },
     "execution_count": 153,
     "metadata": {},
     "output_type": "execute_result"
    }
   ],
   "source": [
    "accuracy_score(y_test, y_pred)"
   ]
  },
  {
   "cell_type": "code",
   "execution_count": 154,
   "id": "9858c15e",
   "metadata": {},
   "outputs": [
    {
     "data": {
      "text/plain": [
       "0.5449954086317723"
      ]
     },
     "execution_count": 154,
     "metadata": {},
     "output_type": "execute_result"
    }
   ],
   "source": [
    "precision_score(y_test, y_pred) # tp / (tp + fp)"
   ]
  },
  {
   "cell_type": "code",
   "execution_count": 155,
   "id": "6f9b2111",
   "metadata": {},
   "outputs": [
    {
     "data": {
      "text/plain": [
       "0.7579821200510856"
      ]
     },
     "execution_count": 155,
     "metadata": {},
     "output_type": "execute_result"
    }
   ],
   "source": [
    "recall_score(y_test, y_pred) # tp / (tp + fn)"
   ]
  },
  {
   "cell_type": "code",
   "execution_count": 156,
   "id": "7fd6071b",
   "metadata": {},
   "outputs": [
    {
     "data": {
      "text/plain": [
       "0.6340811965811967"
      ]
     },
     "execution_count": 156,
     "metadata": {},
     "output_type": "execute_result"
    }
   ],
   "source": [
    "f1_score(y_test, y_pred)"
   ]
  },
  {
   "cell_type": "markdown",
   "id": "72ec5143",
   "metadata": {},
   "source": [
    "Plotting the confusion matrix :"
   ]
  },
  {
   "cell_type": "code",
   "execution_count": 157,
   "id": "ff645ddc",
   "metadata": {},
   "outputs": [
    {
     "name": "stdout",
     "output_type": "stream",
     "text": [
      "Test Data Accuracy: 0.6388\n"
     ]
    },
    {
     "data": {
      "image/png": "[encoded data removed]",
      "text/plain": [
       "<Figure size 504x360 with 2 Axes>"
      ]
     },
     "metadata": {},
     "output_type": "display_data"
    }
   ],
   "source": [
    "df_cm = pd.DataFrame(cm, index = (1, 0), columns = (1, 0))\n",
    "plt.figure(figsize = (7,5))\n",
    "sns.set(font_scale=1.4)\n",
    "sns.heatmap(df_cm, annot=True, fmt='g')\n",
    "print(\"Test Data Accuracy: %0.4f\" % accuracy_score(y_test, y_pred))"
   ]
  },
  {
   "cell_type": "markdown",
   "id": "206e22c6",
   "metadata": {},
   "source": [
    "Pretty similar results than the original model."
   ]
  },
  {
   "cell_type": "markdown",
   "id": "dac4ec1f",
   "metadata": {},
   "source": [
    "Here, we have demonstrated that 21 features no no impact on the outcome."
   ]
  },
  {
   "cell_type": "markdown",
   "id": "5bd3bc83",
   "metadata": {},
   "source": [
    "### Applying k-Fold Cross Validation"
   ]
  },
  {
   "cell_type": "code",
   "execution_count": 158,
   "id": "78af90bd",
   "metadata": {},
   "outputs": [
    {
     "name": "stdout",
     "output_type": "stream",
     "text": [
      "SVM Accuracy: 0.658 (+/- 0.034)\n"
     ]
    }
   ],
   "source": [
    "from sklearn.model_selection import cross_val_score\n",
    "accuracies = cross_val_score(estimator = classifier,\n",
    "                             X = X_train[X_train.columns[rfe.support_]],\n",
    "                             y = y_train, cv = 10)\n",
    "print(\"SVM Accuracy: %0.3f (+/- %0.3f)\" % (accuracies.mean(), accuracies.std() * 2))"
   ]
  },
  {
   "cell_type": "markdown",
   "id": "5f68b928",
   "metadata": {},
   "source": [
    "### Analysing coefficients"
   ]
  },
  {
   "cell_type": "code",
   "execution_count": 159,
   "id": "778ca095",
   "metadata": {},
   "outputs": [
    {
     "data": {
      "text/html": [
       "<div>\n",
       "<style scoped>\n",
       "    .dataframe tbody tr th:only-of-type {\n",
       "        vertical-align: middle;\n",
       "    }\n",
       "\n",
       "    .dataframe tbody tr th {\n",
       "        vertical-align: top;\n",
       "    }\n",
       "\n",
       "    .dataframe thead th {\n",
       "        text-align: right;\n",
       "    }\n",
       "</style>\n",
       "<table border=\"1\" class=\"dataframe\">\n",
       "  <thead>\n",
       "    <tr style=\"text-align: right;\">\n",
       "      <th></th>\n",
       "      <th>features</th>\n",
       "      <th>coef</th>\n",
       "    </tr>\n",
       "  </thead>\n",
       "  <tbody>\n",
       "    <tr>\n",
       "      <th>0</th>\n",
       "      <td>age</td>\n",
       "      <td>-0.191032</td>\n",
       "    </tr>\n",
       "    <tr>\n",
       "      <th>1</th>\n",
       "      <td>deposits</td>\n",
       "      <td>0.225682</td>\n",
       "    </tr>\n",
       "    <tr>\n",
       "      <th>2</th>\n",
       "      <td>purchases_partners</td>\n",
       "      <td>-0.733080</td>\n",
       "    </tr>\n",
       "    <tr>\n",
       "      <th>3</th>\n",
       "      <td>purchases</td>\n",
       "      <td>-0.342926</td>\n",
       "    </tr>\n",
       "    <tr>\n",
       "      <th>4</th>\n",
       "      <td>cc_taken</td>\n",
       "      <td>0.050881</td>\n",
       "    </tr>\n",
       "    <tr>\n",
       "      <th>5</th>\n",
       "      <td>cc_application_begin</td>\n",
       "      <td>0.054568</td>\n",
       "    </tr>\n",
       "    <tr>\n",
       "      <th>6</th>\n",
       "      <td>app_downloaded</td>\n",
       "      <td>-0.066669</td>\n",
       "    </tr>\n",
       "    <tr>\n",
       "      <th>7</th>\n",
       "      <td>web_user</td>\n",
       "      <td>0.158865</td>\n",
       "    </tr>\n",
       "    <tr>\n",
       "      <th>8</th>\n",
       "      <td>ios_user</td>\n",
       "      <td>0.108822</td>\n",
       "    </tr>\n",
       "    <tr>\n",
       "      <th>9</th>\n",
       "      <td>registered_phones</td>\n",
       "      <td>0.089174</td>\n",
       "    </tr>\n",
       "    <tr>\n",
       "      <th>10</th>\n",
       "      <td>cancelled_loan</td>\n",
       "      <td>0.065300</td>\n",
       "    </tr>\n",
       "    <tr>\n",
       "      <th>11</th>\n",
       "      <td>received_loan</td>\n",
       "      <td>0.103186</td>\n",
       "    </tr>\n",
       "    <tr>\n",
       "      <th>12</th>\n",
       "      <td>rejected_loan</td>\n",
       "      <td>0.105120</td>\n",
       "    </tr>\n",
       "    <tr>\n",
       "      <th>13</th>\n",
       "      <td>reward_rate</td>\n",
       "      <td>-0.259011</td>\n",
       "    </tr>\n",
       "    <tr>\n",
       "      <th>14</th>\n",
       "      <td>is_referred</td>\n",
       "      <td>0.057113</td>\n",
       "    </tr>\n",
       "    <tr>\n",
       "      <th>15</th>\n",
       "      <td>housing_R</td>\n",
       "      <td>0.068527</td>\n",
       "    </tr>\n",
       "    <tr>\n",
       "      <th>16</th>\n",
       "      <td>payment_type_Bi-Weekly</td>\n",
       "      <td>-0.103194</td>\n",
       "    </tr>\n",
       "    <tr>\n",
       "      <th>17</th>\n",
       "      <td>payment_type_Monthly</td>\n",
       "      <td>-0.051466</td>\n",
       "    </tr>\n",
       "    <tr>\n",
       "      <th>18</th>\n",
       "      <td>payment_type_Semi-Monthly</td>\n",
       "      <td>-0.103831</td>\n",
       "    </tr>\n",
       "    <tr>\n",
       "      <th>19</th>\n",
       "      <td>zodiac_sign_Capricorn</td>\n",
       "      <td>0.051382</td>\n",
       "    </tr>\n",
       "  </tbody>\n",
       "</table>\n",
       "</div>"
      ],
      "text/plain": [
       "                     features      coef\n",
       "0                         age -0.191032\n",
       "1                    deposits  0.225682\n",
       "2          purchases_partners -0.733080\n",
       "3                   purchases -0.342926\n",
       "4                    cc_taken  0.050881\n",
       "5        cc_application_begin  0.054568\n",
       "6              app_downloaded -0.066669\n",
       "7                    web_user  0.158865\n",
       "8                    ios_user  0.108822\n",
       "9           registered_phones  0.089174\n",
       "10             cancelled_loan  0.065300\n",
       "11              received_loan  0.103186\n",
       "12              rejected_loan  0.105120\n",
       "13                reward_rate -0.259011\n",
       "14                is_referred  0.057113\n",
       "15                  housing_R  0.068527\n",
       "16     payment_type_Bi-Weekly -0.103194\n",
       "17       payment_type_Monthly -0.051466\n",
       "18  payment_type_Semi-Monthly -0.103831\n",
       "19      zodiac_sign_Capricorn  0.051382"
      ]
     },
     "execution_count": 159,
     "metadata": {},
     "output_type": "execute_result"
    }
   ],
   "source": [
    "pd.concat([pd.DataFrame(X_train[X_train.columns[rfe.support_]].columns, columns = [\"features\"]),\n",
    "           pd.DataFrame(np.transpose(classifier.coef_), columns = [\"coef\"])\n",
    "           ],axis = 1)"
   ]
  },
  {
   "cell_type": "markdown",
   "id": "228651c0",
   "metadata": {},
   "source": [
    "Although the coefficients haven't change much, the overall average is higher because we got rid of 20 columns that have very low coefficients (aka have very low importance)."
   ]
  },
  {
   "cell_type": "markdown",
   "id": "a8578b79",
   "metadata": {},
   "source": [
    "## Formatting Final Results"
   ]
  },
  {
   "cell_type": "code",
   "execution_count": 160,
   "id": "2647bc4d",
   "metadata": {},
   "outputs": [],
   "source": [
    "final_results = pd.concat([y_test, user_identifier], axis = 1).dropna()\n",
    "final_results['predicted_churn'] = y_pred\n",
    "final_results = final_results[['user','churn', 'predicted_churn']].reset_index(drop=True)"
   ]
  },
  {
   "cell_type": "code",
   "execution_count": 161,
   "id": "c6a7f9ad",
   "metadata": {},
   "outputs": [
    {
     "data": {
      "text/html": [
       "<div>\n",
       "<style scoped>\n",
       "    .dataframe tbody tr th:only-of-type {\n",
       "        vertical-align: middle;\n",
       "    }\n",
       "\n",
       "    .dataframe tbody tr th {\n",
       "        vertical-align: top;\n",
       "    }\n",
       "\n",
       "    .dataframe thead th {\n",
       "        text-align: right;\n",
       "    }\n",
       "</style>\n",
       "<table border=\"1\" class=\"dataframe\">\n",
       "  <thead>\n",
       "    <tr style=\"text-align: right;\">\n",
       "      <th></th>\n",
       "      <th>user</th>\n",
       "      <th>churn</th>\n",
       "      <th>predicted_churn</th>\n",
       "    </tr>\n",
       "  </thead>\n",
       "  <tbody>\n",
       "    <tr>\n",
       "      <th>0</th>\n",
       "      <td>20839</td>\n",
       "      <td>0.0</td>\n",
       "      <td>1</td>\n",
       "    </tr>\n",
       "    <tr>\n",
       "      <th>1</th>\n",
       "      <td>15359</td>\n",
       "      <td>1.0</td>\n",
       "      <td>0</td>\n",
       "    </tr>\n",
       "    <tr>\n",
       "      <th>2</th>\n",
       "      <td>34210</td>\n",
       "      <td>1.0</td>\n",
       "      <td>0</td>\n",
       "    </tr>\n",
       "    <tr>\n",
       "      <th>3</th>\n",
       "      <td>57608</td>\n",
       "      <td>1.0</td>\n",
       "      <td>1</td>\n",
       "    </tr>\n",
       "    <tr>\n",
       "      <th>4</th>\n",
       "      <td>11790</td>\n",
       "      <td>0.0</td>\n",
       "      <td>0</td>\n",
       "    </tr>\n",
       "    <tr>\n",
       "      <th>...</th>\n",
       "      <td>...</td>\n",
       "      <td>...</td>\n",
       "      <td>...</td>\n",
       "    </tr>\n",
       "    <tr>\n",
       "      <th>3788</th>\n",
       "      <td>67681</td>\n",
       "      <td>0.0</td>\n",
       "      <td>1</td>\n",
       "    </tr>\n",
       "    <tr>\n",
       "      <th>3789</th>\n",
       "      <td>49145</td>\n",
       "      <td>1.0</td>\n",
       "      <td>0</td>\n",
       "    </tr>\n",
       "    <tr>\n",
       "      <th>3790</th>\n",
       "      <td>47206</td>\n",
       "      <td>0.0</td>\n",
       "      <td>0</td>\n",
       "    </tr>\n",
       "    <tr>\n",
       "      <th>3791</th>\n",
       "      <td>22377</td>\n",
       "      <td>0.0</td>\n",
       "      <td>0</td>\n",
       "    </tr>\n",
       "    <tr>\n",
       "      <th>3792</th>\n",
       "      <td>47663</td>\n",
       "      <td>1.0</td>\n",
       "      <td>0</td>\n",
       "    </tr>\n",
       "  </tbody>\n",
       "</table>\n",
       "<p>3793 rows × 3 columns</p>\n",
       "</div>"
      ],
      "text/plain": [
       "       user  churn  predicted_churn\n",
       "0     20839    0.0                1\n",
       "1     15359    1.0                0\n",
       "2     34210    1.0                0\n",
       "3     57608    1.0                1\n",
       "4     11790    0.0                0\n",
       "...     ...    ...              ...\n",
       "3788  67681    0.0                1\n",
       "3789  49145    1.0                0\n",
       "3790  47206    0.0                0\n",
       "3791  22377    0.0                0\n",
       "3792  47663    1.0                0\n",
       "\n",
       "[3793 rows x 3 columns]"
      ]
     },
     "execution_count": 161,
     "metadata": {},
     "output_type": "execute_result"
    }
   ],
   "source": [
    "final_results"
   ]
  }
 ],
 "metadata": {
  "kernelspec": {
   "display_name": "Python 3 (ipykernel)",
   "language": "python",
   "name": "python3"
  },
  "language_info": {
   "codemirror_mode": {
    "name": "ipython",
    "version": 3
   },
   "file_extension": ".py",
   "mimetype": "text/x-python",
   "name": "python",
   "nbconvert_exporter": "python",
   "pygments_lexer": "ipython3",
   "version": "3.9.7"
  }
 },
 "nbformat": 4,
 "nbformat_minor": 5
}
